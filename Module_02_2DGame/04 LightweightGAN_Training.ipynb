{
  "cells": [
    {
      "cell_type": "code",
      "execution_count": null,
      "metadata": {
        "colab": {
          "base_uri": "https://localhost:8080/"
        },
        "id": "GFvSZv8iYb0T",
        "outputId": "3f751e34-37f3-46b2-fb06-77c5d4c0d420"
      },
      "outputs": [
        {
          "name": "stdout",
          "output_type": "stream",
          "text": [
            "PyTorch 1.10.0+cu111\n"
          ]
        }
      ],
      "source": [
        "import torch\n",
        "\n",
        "print(\"PyTorch\", torch.__version__)"
      ]
    },
    {
      "cell_type": "code",
      "execution_count": null,
      "metadata": {
        "colab": {
          "base_uri": "https://localhost:8080/"
        },
        "id": "9j8FKl-pYcez",
        "outputId": "e5efdebf-fa0f-4910-e40e-b5a734045a7e"
      },
      "outputs": [
        {
          "data": {
            "text/plain": [
              "True"
            ]
          },
          "execution_count": 2,
          "metadata": {},
          "output_type": "execute_result"
        }
      ],
      "source": [
        "torch.cuda.is_available()"
      ]
    },
    {
      "cell_type": "code",
      "execution_count": null,
      "metadata": {
        "colab": {
          "base_uri": "https://localhost:8080/"
        },
        "id": "OqEGzWmhYhe8",
        "outputId": "2db1b6a4-2f79-4ede-af48-fe3d48bc35b4"
      },
      "outputs": [
        {
          "name": "stdout",
          "output_type": "stream",
          "text": [
            "Mounted at /content/table\n"
          ]
        }
      ],
      "source": [
        "from google.colab import drive\n",
        "drive.mount('/content/table', force_remount=True)"
      ]
    },
    {
      "cell_type": "code",
      "execution_count": null,
      "metadata": {
        "id": "TczrmEgFYtHk"
      },
      "outputs": [],
      "source": [
        "from IPython.display import IFrame\n",
        "from torch import nn, tensor\n",
        "import numpy as np\n",
        "import matplotlib.pyplot as plt"
      ]
    },
    {
      "cell_type": "code",
      "execution_count": null,
      "metadata": {
        "colab": {
          "base_uri": "https://localhost:8080/"
        },
        "id": "eZmhUwJzZFj6",
        "outputId": "65767df4-802a-4ce9-cce2-012399af04c2"
      },
      "outputs": [
        {
          "name": "stdout",
          "output_type": "stream",
          "text": [
            "Collecting kornia==0.5.4\n",
            "  Downloading kornia-0.5.4-py2.py3-none-any.whl (285 kB)\n",
            "\u001b[?25l\r\u001b[K     |█▏                              | 10 kB 32.3 MB/s eta 0:00:01\r\u001b[K     |██▎                             | 20 kB 36.3 MB/s eta 0:00:01\r\u001b[K     |███▍                            | 30 kB 26.3 MB/s eta 0:00:01\r\u001b[K     |████▋                           | 40 kB 15.4 MB/s eta 0:00:01\r\u001b[K     |█████▊                          | 51 kB 12.6 MB/s eta 0:00:01\r\u001b[K     |██████▉                         | 61 kB 14.7 MB/s eta 0:00:01\r\u001b[K     |████████                        | 71 kB 14.4 MB/s eta 0:00:01\r\u001b[K     |█████████▏                      | 81 kB 13.8 MB/s eta 0:00:01\r\u001b[K     |██████████▎                     | 92 kB 15.2 MB/s eta 0:00:01\r\u001b[K     |███████████▌                    | 102 kB 15.3 MB/s eta 0:00:01\r\u001b[K     |████████████▋                   | 112 kB 15.3 MB/s eta 0:00:01\r\u001b[K     |█████████████▊                  | 122 kB 15.3 MB/s eta 0:00:01\r\u001b[K     |███████████████                 | 133 kB 15.3 MB/s eta 0:00:01\r\u001b[K     |████████████████                | 143 kB 15.3 MB/s eta 0:00:01\r\u001b[K     |█████████████████▏              | 153 kB 15.3 MB/s eta 0:00:01\r\u001b[K     |██████████████████▍             | 163 kB 15.3 MB/s eta 0:00:01\r\u001b[K     |███████████████████▌            | 174 kB 15.3 MB/s eta 0:00:01\r\u001b[K     |████████████████████▋           | 184 kB 15.3 MB/s eta 0:00:01\r\u001b[K     |█████████████████████▉          | 194 kB 15.3 MB/s eta 0:00:01\r\u001b[K     |███████████████████████         | 204 kB 15.3 MB/s eta 0:00:01\r\u001b[K     |████████████████████████        | 215 kB 15.3 MB/s eta 0:00:01\r\u001b[K     |█████████████████████████▎      | 225 kB 15.3 MB/s eta 0:00:01\r\u001b[K     |██████████████████████████▍     | 235 kB 15.3 MB/s eta 0:00:01\r\u001b[K     |███████████████████████████▌    | 245 kB 15.3 MB/s eta 0:00:01\r\u001b[K     |████████████████████████████▊   | 256 kB 15.3 MB/s eta 0:00:01\r\u001b[K     |█████████████████████████████▉  | 266 kB 15.3 MB/s eta 0:00:01\r\u001b[K     |███████████████████████████████ | 276 kB 15.3 MB/s eta 0:00:01\r\u001b[K     |████████████████████████████████| 285 kB 15.3 MB/s \n",
            "\u001b[?25hRequirement already satisfied: torch>=1.6.0 in /usr/local/lib/python3.7/dist-packages (from kornia==0.5.4) (1.10.0+cu111)\n",
            "Requirement already satisfied: numpy in /usr/local/lib/python3.7/dist-packages (from kornia==0.5.4) (1.21.5)\n",
            "Requirement already satisfied: typing-extensions in /usr/local/lib/python3.7/dist-packages (from torch>=1.6.0->kornia==0.5.4) (3.10.0.2)\n",
            "Installing collected packages: kornia\n",
            "Successfully installed kornia-0.5.4\n",
            "Collecting lightweight_gan==0.20.2\n",
            "  Downloading lightweight_gan-0.20.2-py3-none-any.whl (19 kB)\n",
            "Requirement already satisfied: torchvision in /usr/local/lib/python3.7/dist-packages (from lightweight_gan==0.20.2) (0.11.1+cu111)\n",
            "Requirement already satisfied: numpy in /usr/local/lib/python3.7/dist-packages (from lightweight_gan==0.20.2) (1.21.5)\n",
            "Collecting einops>=0.3\n",
            "  Downloading einops-0.4.1-py3-none-any.whl (28 kB)\n",
            "Requirement already satisfied: kornia>=0.5.4 in /usr/local/lib/python3.7/dist-packages (from lightweight_gan==0.20.2) (0.5.4)\n",
            "Collecting retry\n",
            "  Downloading retry-0.9.2-py2.py3-none-any.whl (8.0 kB)\n",
            "Requirement already satisfied: pillow in /usr/local/lib/python3.7/dist-packages (from lightweight_gan==0.20.2) (7.1.2)\n",
            "Collecting adabelief-pytorch\n",
            "  Downloading adabelief_pytorch-0.2.1-py3-none-any.whl (5.8 kB)\n",
            "Requirement already satisfied: tqdm in /usr/local/lib/python3.7/dist-packages (from lightweight_gan==0.20.2) (4.63.0)\n",
            "Requirement already satisfied: torch>=1.6 in /usr/local/lib/python3.7/dist-packages (from lightweight_gan==0.20.2) (1.10.0+cu111)\n",
            "Collecting fire\n",
            "  Downloading fire-0.4.0.tar.gz (87 kB)\n",
            "\u001b[K     |████████████████████████████████| 87 kB 6.0 MB/s \n",
            "\u001b[?25hRequirement already satisfied: typing-extensions in /usr/local/lib/python3.7/dist-packages (from torch>=1.6->lightweight_gan==0.20.2) (3.10.0.2)\n",
            "Collecting colorama>=0.4.0\n",
            "  Downloading colorama-0.4.4-py2.py3-none-any.whl (16 kB)\n",
            "Requirement already satisfied: tabulate>=0.7 in /usr/local/lib/python3.7/dist-packages (from adabelief-pytorch->lightweight_gan==0.20.2) (0.8.9)\n",
            "Requirement already satisfied: six in /usr/local/lib/python3.7/dist-packages (from fire->lightweight_gan==0.20.2) (1.15.0)\n",
            "Requirement already satisfied: termcolor in /usr/local/lib/python3.7/dist-packages (from fire->lightweight_gan==0.20.2) (1.1.0)\n",
            "Requirement already satisfied: decorator>=3.4.2 in /usr/local/lib/python3.7/dist-packages (from retry->lightweight_gan==0.20.2) (4.4.2)\n",
            "Requirement already satisfied: py<2.0.0,>=1.4.26 in /usr/local/lib/python3.7/dist-packages (from retry->lightweight_gan==0.20.2) (1.11.0)\n",
            "Building wheels for collected packages: fire\n",
            "  Building wheel for fire (setup.py) ... \u001b[?25l\u001b[?25hdone\n",
            "  Created wheel for fire: filename=fire-0.4.0-py2.py3-none-any.whl size=115942 sha256=6bb1ad00cbe4728e0ea8727681d04609fc952b14d6157209fc516cac874dd5c4\n",
            "  Stored in directory: /root/.cache/pip/wheels/8a/67/fb/2e8a12fa16661b9d5af1f654bd199366799740a85c64981226\n",
            "Successfully built fire\n",
            "Installing collected packages: colorama, retry, fire, einops, adabelief-pytorch, lightweight-gan\n",
            "Successfully installed adabelief-pytorch-0.2.1 colorama-0.4.4 einops-0.4.1 fire-0.4.0 lightweight-gan-0.20.2 retry-0.9.2\n"
          ]
        }
      ],
      "source": [
        "!pip install kornia==0.5.4\n",
        "!pip install lightweight_gan==0.20.2"
      ]
    },
    {
      "cell_type": "code",
      "execution_count": null,
      "metadata": {
        "colab": {
          "background_save": true
        },
        "id": "W8jrwsL6ZNhD"
      },
      "outputs": [],
      "source": [
        "!lightweight_gan --name \"StyleGAN\" --image-size 512 --data '/content/table/MyDrive/ML_Table/butterfly' --results_dir='/content/table/MyDrive/GenerativeGame/' --models_dir='/content/table/MyDrive/GenerativeGame/' --num-train-steps 10000 --aug-types \"[]\" --transparent"
      ]
    },
    {
      "cell_type": "code",
      "execution_count": null,
      "metadata": {
        "id": "fxdsT368ZlPl"
      },
      "outputs": [],
      "source": [
        ""
      ]
    }
  ],
  "metadata": {
    "accelerator": "GPU",
    "colab": {
      "collapsed_sections": [],
      "machine_shape": "hm",
      "name": "LightweightGAN_Training",
      "provenance": []
    },
    "kernelspec": {
      "display_name": "Python 3",
      "name": "python3"
    },
    "language_info": {
      "name": "python"
    }
  },
  "nbformat": 4,
  "nbformat_minor": 0
}