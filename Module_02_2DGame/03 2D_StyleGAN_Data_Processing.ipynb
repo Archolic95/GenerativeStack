{
 "cells": [
  {
   "cell_type": "markdown",
   "metadata": {
    "id": "qZqgQB14ja5a"
   },
   "source": [
    "# 2D StyleGAN Dataset Processing\n",
    "\n",
    "by *Runjia Tian*\n",
    "\n",
    "## Setup CoLab\n",
    "\n",
    "In this section, we will be introducing how to set up styleGAN in GOogle CoLab. We will also introduce some pre-processing tools with OpenCV Python"
   ]
  },
  {
   "cell_type": "code",
   "execution_count": null,
   "metadata": {
    "id": "CyiONZgQbCy3"
   },
   "outputs": [],
   "source": [
    "import os\n",
    "assert os.environ['COLAB_TPU_ADDR'], 'Make sure to select TPU from Edit > Notebook settings > Hardware accelerator'\n",
    "import cv2"
   ]
  },
  {
   "cell_type": "markdown",
   "metadata": {
    "id": "BSRH_iLwkVW8"
   },
   "source": [
    "## Mount Your Google Drive\n",
    "\n",
    "Now that we have setup the infrastructure required, we can began to mount our dataset. We can do this by mounting the Google Drive. "
   ]
  },
  {
   "cell_type": "code",
   "execution_count": null,
   "metadata": {
    "id": "DO_Udtnncqo_"
   },
   "outputs": [],
   "source": [
    "from google.colab import drive, files\n",
    "drive.mount('/content/gdrive', force_remount=True)\n",
    "cwd = os.getcwd()\n",
    "\n",
    "filedir = 'gdrive/MyDrive/DF2021/runjia_tian_2D/'\n",
    "\n",
    "output_dir= 'gdrive/MyDrive/DF2021/runjia_tian_2D_output/'"
   ]
  },
  {
   "cell_type": "code",
   "execution_count": null,
   "metadata": {
    "id": "ZYPt4-TXke94"
   },
   "outputs": [],
   "source": [
    "def augument_dataset(filedir, output_dir):\n",
    "\n",
    "  filelist = os.listdir(filedir)\n",
    "  for file in filelist:\n",
    "      name=file[:-4]\n",
    "      \n",
    "      img = cv2.imread(filedir+file)\n",
    "      img_mir = cv2.flip(img, 1)\n",
    "\n",
    "      img_c_90 = cv2.rotate(img, cv2.ROTATE_90_CLOCKWISE)\n",
    "      img_c_180 = cv2.rotate(img, cv2.ROTATE_180)\n",
    "      img_c_270 = cv2.rotate(img, cv2.ROTATE_90_COUNTERCLOCKWISE)\n",
    "\n",
    "      img_m_90 = cv2.rotate(img_mir, cv2.ROTATE_90_CLOCKWISE)\n",
    "      img_m_180 = cv2.rotate(img_mir, cv2.ROTATE_180)\n",
    "      img_m_270 = cv2.rotate(img_mir, cv2.ROTATE_90_COUNTERCLOCKWISE)\n",
    "      \n",
    "      #print(img_c_90.shape, img_c_180.shape, img_c_270.shape)\n",
    "      cv2.imwrite(output_dir+name+'_90.jpg', img_c_90)\n",
    "      cv2.imwrite(output_dir+name+'_180.jpg', img_c_180)\n",
    "      cv2.imwrite(output_dir+name+'_270.jpg', img_c_270)\n",
    "\n",
    "      if not os.path.exists(output_dir):\n",
    "        os.makedirs(output_dir)\n",
    "\n",
    "      cv2.imwrite(output_dir+name+'_m_90.jpg', img_m_90)\n",
    "      cv2.imwrite(output_dir+name+'_m_180.jpg', img_m_180)\n",
    "      cv2.imwrite(output_dir+name+'_m_270.jpg', img_m_270)"
   ]
  },
  {
   "cell_type": "code",
   "execution_count": null,
   "metadata": {
    "id": "yQJCqEP4edgD"
   },
   "outputs": [],
   "source": [
    "augument_dataset(filedir,output_dir)"
   ]
  },
  {
   "cell_type": "markdown",
   "metadata": {
    "id": "M-hdi0ovoVji"
   },
   "source": [
    "## Download the Dataset for Further Training"
   ]
  },
  {
   "cell_type": "code",
   "execution_count": null,
   "metadata": {
    "id": "f80c9211",
    "scrolled": false
   },
   "outputs": [],
   "source": [
    "!zip -r /content/file.zip /content/gdrive/MyDrive/DF2021/runjia_tian_2D_output\n",
    "files.download(\"/content/file.zip\")"
   ]
  },
  {
   "cell_type": "code",
   "execution_count": null,
   "metadata": {
    "id": "7U0w8rFmoith"
   },
   "outputs": [],
   "source": []
  }
 ],
 "metadata": {
  "accelerator": "TPU",
  "colab": {
   "collapsed_sections": [],
   "name": "2D StyleGAN Data Processing",
   "private_outputs": true,
   "provenance": []
  },
  "kernelspec": {
   "display_name": "Python 3 (ipykernel)",
   "language": "python",
   "name": "python3"
  },
  "language_info": {
   "codemirror_mode": {
    "name": "ipython",
    "version": 3
   },
   "file_extension": ".py",
   "mimetype": "text/x-python",
   "name": "python",
   "nbconvert_exporter": "python",
   "pygments_lexer": "ipython3",
   "version": "3.9.1"
  }
 },
 "nbformat": 4,
 "nbformat_minor": 1
}
